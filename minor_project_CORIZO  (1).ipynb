{
 "cells": [
  {
   "cell_type": "markdown",
   "id": "7ce839ed",
   "metadata": {},
   "source": [
    "#    Stock Price Prediction\n",
    "\n",
    "\n",
    "# NAME : NIKHIL BIRADAR\n",
    "#               CORIZO ML INTERN"
   ]
  },
  {
   "cell_type": "code",
   "execution_count": 1,
   "id": "256044bc",
   "metadata": {},
   "outputs": [],
   "source": [
    "import numpy as np \n",
    "import pandas as pd \n",
    "import matplotlib.pyplot as plt \n",
    "from sklearn.preprocessing import MinMaxScaler\n",
    "from keras.models import Sequential\n",
    "from keras.layers import Dense,LSTM,Dropout"
   ]
  },
  {
   "cell_type": "code",
   "execution_count": 3,
   "id": "ce9f03bd",
   "metadata": {},
   "outputs": [
    {
     "data": {
      "text/html": [
       "<div>\n",
       "<style scoped>\n",
       "    .dataframe tbody tr th:only-of-type {\n",
       "        vertical-align: middle;\n",
       "    }\n",
       "\n",
       "    .dataframe tbody tr th {\n",
       "        vertical-align: top;\n",
       "    }\n",
       "\n",
       "    .dataframe thead th {\n",
       "        text-align: right;\n",
       "    }\n",
       "</style>\n",
       "<table border=\"1\" class=\"dataframe\">\n",
       "  <thead>\n",
       "    <tr style=\"text-align: right;\">\n",
       "      <th></th>\n",
       "      <th>Date</th>\n",
       "      <th>Open</th>\n",
       "      <th>High</th>\n",
       "      <th>Low</th>\n",
       "      <th>Close</th>\n",
       "      <th>Adj Close</th>\n",
       "      <th>Volume</th>\n",
       "    </tr>\n",
       "  </thead>\n",
       "  <tbody>\n",
       "    <tr>\n",
       "      <th>0</th>\n",
       "      <td>2018-02-05</td>\n",
       "      <td>262.000000</td>\n",
       "      <td>267.899994</td>\n",
       "      <td>250.029999</td>\n",
       "      <td>254.259995</td>\n",
       "      <td>254.259995</td>\n",
       "      <td>11896100.0</td>\n",
       "    </tr>\n",
       "    <tr>\n",
       "      <th>1</th>\n",
       "      <td>2018-02-06</td>\n",
       "      <td>247.699997</td>\n",
       "      <td>266.700012</td>\n",
       "      <td>245.000000</td>\n",
       "      <td>265.720001</td>\n",
       "      <td>265.720001</td>\n",
       "      <td>12595800.0</td>\n",
       "    </tr>\n",
       "    <tr>\n",
       "      <th>2</th>\n",
       "      <td>2018-02-07</td>\n",
       "      <td>266.579987</td>\n",
       "      <td>272.450012</td>\n",
       "      <td>264.329987</td>\n",
       "      <td>264.559998</td>\n",
       "      <td>264.559998</td>\n",
       "      <td>8981500.0</td>\n",
       "    </tr>\n",
       "    <tr>\n",
       "      <th>3</th>\n",
       "      <td>2018-02-08</td>\n",
       "      <td>267.079987</td>\n",
       "      <td>267.619995</td>\n",
       "      <td>250.000000</td>\n",
       "      <td>250.100006</td>\n",
       "      <td>250.100006</td>\n",
       "      <td>9306700.0</td>\n",
       "    </tr>\n",
       "    <tr>\n",
       "      <th>4</th>\n",
       "      <td>2018-02-09</td>\n",
       "      <td>253.850006</td>\n",
       "      <td>255.800003</td>\n",
       "      <td>236.110001</td>\n",
       "      <td>249.470001</td>\n",
       "      <td>249.470001</td>\n",
       "      <td>16906900.0</td>\n",
       "    </tr>\n",
       "  </tbody>\n",
       "</table>\n",
       "</div>"
      ],
      "text/plain": [
       "        Date        Open        High         Low       Close   Adj Close  \\\n",
       "0 2018-02-05  262.000000  267.899994  250.029999  254.259995  254.259995   \n",
       "1 2018-02-06  247.699997  266.700012  245.000000  265.720001  265.720001   \n",
       "2 2018-02-07  266.579987  272.450012  264.329987  264.559998  264.559998   \n",
       "3 2018-02-08  267.079987  267.619995  250.000000  250.100006  250.100006   \n",
       "4 2018-02-09  253.850006  255.800003  236.110001  249.470001  249.470001   \n",
       "\n",
       "       Volume  \n",
       "0  11896100.0  \n",
       "1  12595800.0  \n",
       "2   8981500.0  \n",
       "3   9306700.0  \n",
       "4  16906900.0  "
      ]
     },
     "execution_count": 3,
     "metadata": {},
     "output_type": "execute_result"
    }
   ],
   "source": [
    "data =pd.read_excel('Stock_Price_data_set.xlsx')\n",
    "data.head()"
   ]
  },
  {
   "cell_type": "code",
   "execution_count": 4,
   "id": "88224cda",
   "metadata": {},
   "outputs": [
    {
     "name": "stdout",
     "output_type": "stream",
     "text": [
      "<class 'pandas.core.frame.DataFrame'>\n",
      "RangeIndex: 1009 entries, 0 to 1008\n",
      "Data columns (total 7 columns):\n",
      " #   Column     Non-Null Count  Dtype         \n",
      "---  ------     --------------  -----         \n",
      " 0   Date       1009 non-null   datetime64[ns]\n",
      " 1   Open       1009 non-null   float64       \n",
      " 2   High       1009 non-null   float64       \n",
      " 3   Low        1009 non-null   float64       \n",
      " 4   Close      1009 non-null   float64       \n",
      " 5   Adj Close  1009 non-null   float64       \n",
      " 6   Volume     1009 non-null   float64       \n",
      "dtypes: datetime64[ns](1), float64(6)\n",
      "memory usage: 55.3 KB\n"
     ]
    }
   ],
   "source": [
    "data.info()"
   ]
  },
  {
   "cell_type": "code",
   "execution_count": 5,
   "id": "3ea33150",
   "metadata": {},
   "outputs": [],
   "source": [
    "data[\"Close\"]=pd.to_numeric(data.Close,errors='coerce')\n",
    "data = data.dropna()\n",
    "trainData = data.iloc[:,4:5].values"
   ]
  },
  {
   "cell_type": "code",
   "execution_count": 6,
   "id": "8e09dfda",
   "metadata": {},
   "outputs": [
    {
     "name": "stdout",
     "output_type": "stream",
     "text": [
      "<class 'pandas.core.frame.DataFrame'>\n",
      "RangeIndex: 1009 entries, 0 to 1008\n",
      "Data columns (total 7 columns):\n",
      " #   Column     Non-Null Count  Dtype         \n",
      "---  ------     --------------  -----         \n",
      " 0   Date       1009 non-null   datetime64[ns]\n",
      " 1   Open       1009 non-null   float64       \n",
      " 2   High       1009 non-null   float64       \n",
      " 3   Low        1009 non-null   float64       \n",
      " 4   Close      1009 non-null   float64       \n",
      " 5   Adj Close  1009 non-null   float64       \n",
      " 6   Volume     1009 non-null   float64       \n",
      "dtypes: datetime64[ns](1), float64(6)\n",
      "memory usage: 55.3 KB\n"
     ]
    }
   ],
   "source": [
    "data.info()"
   ]
  },
  {
   "cell_type": "code",
   "execution_count": 7,
   "id": "05a8d50e",
   "metadata": {},
   "outputs": [
    {
     "data": {
      "text/plain": [
       "(1009, 1)"
      ]
     },
     "execution_count": 7,
     "metadata": {},
     "output_type": "execute_result"
    }
   ],
   "source": [
    "sc = MinMaxScaler(feature_range=(0,1))\n",
    "trainData = sc.fit_transform(trainData)\n",
    "trainData.shape"
   ]
  },
  {
   "cell_type": "code",
   "execution_count": 10,
   "id": "03b74dc3",
   "metadata": {},
   "outputs": [],
   "source": [
    "X_train = []\n",
    "y_train = []\n",
    "\n",
    "for i in range (60,1009): \n",
    "    X_train.append(trainData[i-60:i,0]) \n",
    "    y_train.append(trainData[i,0])\n",
    "\n",
    "X_train,y_train = np.array(X_train),np.array(y_train)"
   ]
  },
  {
   "cell_type": "code",
   "execution_count": 11,
   "id": "bb9d868f",
   "metadata": {},
   "outputs": [
    {
     "data": {
      "text/plain": [
       "(949, 60, 1)"
      ]
     },
     "execution_count": 11,
     "metadata": {},
     "output_type": "execute_result"
    }
   ],
   "source": [
    "X_train = np.reshape(X_train,(X_train.shape[0],X_train.shape[1],1)) #adding the batch_size axis\n",
    "X_train.shape"
   ]
  },
  {
   "cell_type": "code",
   "execution_count": 12,
   "id": "b455c346",
   "metadata": {},
   "outputs": [],
   "source": [
    "model = Sequential()\n",
    "\n",
    "model.add(LSTM(units=100, return_sequences = True, input_shape =(X_train.shape[1],1)))\n",
    "model.add(Dropout(0.2))\n",
    "\n",
    "model.add(LSTM(units=100, return_sequences = True))\n",
    "model.add(Dropout(0.2))\n",
    "\n",
    "model.add(LSTM(units=100, return_sequences = True))\n",
    "model.add(Dropout(0.2))\n",
    "\n",
    "model.add(LSTM(units=100, return_sequences = False))\n",
    "model.add(Dropout(0.2))\n",
    "\n",
    "model.add(Dense(units =1))\n",
    "model.compile(optimizer='adam',loss=\"mean_squared_error\")"
   ]
  },
  {
   "cell_type": "code",
   "execution_count": 13,
   "id": "81436330",
   "metadata": {},
   "outputs": [
    {
     "name": "stdout",
     "output_type": "stream",
     "text": [
      "Epoch 1/20\n",
      "30/30 - 15s - loss: 0.0291 - 15s/epoch - 500ms/step\n",
      "Epoch 2/20\n",
      "30/30 - 5s - loss: 0.0064 - 5s/epoch - 165ms/step\n",
      "Epoch 3/20\n",
      "30/30 - 5s - loss: 0.0061 - 5s/epoch - 156ms/step\n",
      "Epoch 4/20\n",
      "30/30 - 4s - loss: 0.0057 - 4s/epoch - 147ms/step\n",
      "Epoch 5/20\n",
      "30/30 - 4s - loss: 0.0065 - 4s/epoch - 139ms/step\n",
      "Epoch 6/20\n",
      "30/30 - 4s - loss: 0.0064 - 4s/epoch - 137ms/step\n",
      "Epoch 7/20\n",
      "30/30 - 4s - loss: 0.0052 - 4s/epoch - 140ms/step\n",
      "Epoch 8/20\n",
      "30/30 - 5s - loss: 0.0044 - 5s/epoch - 152ms/step\n",
      "Epoch 9/20\n",
      "30/30 - 4s - loss: 0.0044 - 4s/epoch - 144ms/step\n",
      "Epoch 10/20\n",
      "30/30 - 4s - loss: 0.0044 - 4s/epoch - 141ms/step\n",
      "Epoch 11/20\n",
      "30/30 - 4s - loss: 0.0040 - 4s/epoch - 144ms/step\n",
      "Epoch 12/20\n",
      "30/30 - 5s - loss: 0.0043 - 5s/epoch - 151ms/step\n",
      "Epoch 13/20\n",
      "30/30 - 5s - loss: 0.0039 - 5s/epoch - 156ms/step\n",
      "Epoch 14/20\n",
      "30/30 - 5s - loss: 0.0040 - 5s/epoch - 165ms/step\n",
      "Epoch 15/20\n",
      "30/30 - 4s - loss: 0.0039 - 4s/epoch - 149ms/step\n",
      "Epoch 16/20\n",
      "30/30 - 4s - loss: 0.0037 - 4s/epoch - 144ms/step\n",
      "Epoch 17/20\n",
      "30/30 - 5s - loss: 0.0040 - 5s/epoch - 157ms/step\n",
      "Epoch 18/20\n",
      "30/30 - 5s - loss: 0.0037 - 5s/epoch - 153ms/step\n",
      "Epoch 19/20\n",
      "30/30 - 4s - loss: 0.0034 - 4s/epoch - 146ms/step\n",
      "Epoch 20/20\n",
      "30/30 - 4s - loss: 0.0038 - 4s/epoch - 146ms/step\n"
     ]
    }
   ],
   "source": [
    "hist = model.fit(X_train, y_train, epochs = 20, batch_size = 32, verbose=2)"
   ]
  },
  {
   "cell_type": "code",
   "execution_count": 14,
   "id": "0e1b33fc",
   "metadata": {},
   "outputs": [
    {
     "data": {
      "image/png": "[encoded data removed]",
      "text/plain": [
       "<Figure size 432x288 with 1 Axes>"
      ]
     },
     "metadata": {
      "needs_background": "light"
     },
     "output_type": "display_data"
    }
   ],
   "source": [
    "plt.plot(hist.history['loss'])\n",
    "plt.title('Training model loss')\n",
    "plt.ylabel('loss')\n",
    "plt.xlabel('epoch')\n",
    "plt.legend(['train'], loc='upper left')\n",
    "plt.show()"
   ]
  },
  {
   "cell_type": "code",
   "execution_count": 15,
   "id": "e77ce67c",
   "metadata": {},
   "outputs": [
    {
     "data": {
      "text/plain": [
       "(192, 60, 1)"
      ]
     },
     "execution_count": 15,
     "metadata": {},
     "output_type": "execute_result"
    }
   ],
   "source": [
    "testData = pd.read_csv('Google_test_data.csv')\n",
    "testData[\"Close\"]=pd.to_numeric(testData.Close,errors='coerce')\n",
    "testData = testData.dropna()\n",
    "testData = testData.iloc[:,4:5]\n",
    "y_test = testData.iloc[60:,0:].values \n",
    "#input array for the model\n",
    "inputClosing = testData.iloc[:,0:].values \n",
    "inputClosing_scaled = sc.transform(inputClosing)\n",
    "inputClosing_scaled.shape\n",
    "X_test = []\n",
    "length = len(testData)\n",
    "timestep = 60\n",
    "for i in range(timestep,length):  \n",
    "    X_test.append(inputClosing_scaled[i-timestep:i,0])\n",
    "X_test = np.array(X_test)\n",
    "X_test = np.reshape(X_test,(X_test.shape[0],X_test.shape[1],1))\n",
    "X_test.shape"
   ]
  },
  {
   "cell_type": "code",
   "execution_count": 16,
   "id": "1f539ccf",
   "metadata": {},
   "outputs": [
    {
     "name": "stdout",
     "output_type": "stream",
     "text": [
      "6/6 [==============================] - 2s 35ms/step\n"
     ]
    },
    {
     "data": {
      "text/plain": [
       "array([[1.5848405],\n",
       "       [1.5848049],\n",
       "       [1.5903857],\n",
       "       [1.6005751],\n",
       "       [1.6109581],\n",
       "       [1.6153473],\n",
       "       [1.6119853],\n",
       "       [1.603389 ],\n",
       "       [1.5951953],\n",
       "       [1.5899527],\n",
       "       [1.5832691],\n",
       "       [1.5745026],\n",
       "       [1.5659654],\n",
       "       [1.5577316],\n",
       "       [1.5532494],\n",
       "       [1.5530367],\n",
       "       [1.561253 ],\n",
       "       [1.5774672],\n",
       "       [1.598973 ],\n",
       "       [1.6230427],\n",
       "       [1.6391697],\n",
       "       [1.645808 ],\n",
       "       [1.6405249],\n",
       "       [1.6261387],\n",
       "       [1.60862  ],\n",
       "       [1.5938965],\n",
       "       [1.5845206],\n",
       "       [1.5783777],\n",
       "       [1.5709667],\n",
       "       [1.562608 ],\n",
       "       [1.5538347],\n",
       "       [1.5441666],\n",
       "       [1.5308735],\n",
       "       [1.5142016],\n",
       "       [1.5036185],\n",
       "       [1.5035808],\n",
       "       [1.5127642],\n",
       "       [1.5272956],\n",
       "       [1.5442562],\n",
       "       [1.5571173],\n",
       "       [1.5696483],\n",
       "       [1.5827503],\n",
       "       [1.596621 ],\n",
       "       [1.6097647],\n",
       "       [1.6200309],\n",
       "       [1.6247203],\n",
       "       [1.6221305],\n",
       "       [1.6174463],\n",
       "       [1.614252 ],\n",
       "       [1.6149035],\n",
       "       [1.6202443],\n",
       "       [1.6255162],\n",
       "       [1.6287715],\n",
       "       [1.6293209],\n",
       "       [1.6297113],\n",
       "       [1.6285789],\n",
       "       [1.6245902],\n",
       "       [1.6216245],\n",
       "       [1.6247568],\n",
       "       [1.6337674],\n",
       "       [1.6489689],\n",
       "       [1.6693583],\n",
       "       [1.6876888],\n",
       "       [1.6978531],\n",
       "       [1.6982884],\n",
       "       [1.6909894],\n",
       "       [1.6826377],\n",
       "       [1.6767172],\n",
       "       [1.6745112],\n",
       "       [1.6745856],\n",
       "       [1.6762466],\n",
       "       [1.6780946],\n",
       "       [1.6773131],\n",
       "       [1.6751733],\n",
       "       [1.6727185],\n",
       "       [1.671417 ],\n",
       "       [1.6718082],\n",
       "       [1.6741188],\n",
       "       [1.6803933],\n",
       "       [1.6908808],\n",
       "       [1.7055427],\n",
       "       [1.7215488],\n",
       "       [1.7341774],\n",
       "       [1.7412184],\n",
       "       [1.746979 ],\n",
       "       [1.7553557],\n",
       "       [1.7664633],\n",
       "       [1.7774717],\n",
       "       [1.7860298],\n",
       "       [1.7910476],\n",
       "       [1.7944846],\n",
       "       [1.8004715],\n",
       "       [1.810365 ],\n",
       "       [1.819253 ],\n",
       "       [1.8229386],\n",
       "       [1.8197799],\n",
       "       [1.8098198],\n",
       "       [1.7951826],\n",
       "       [1.7797508],\n",
       "       [1.7691898],\n",
       "       [1.7661011],\n",
       "       [1.7704792],\n",
       "       [1.781138 ],\n",
       "       [1.7940738],\n",
       "       [1.8056451],\n",
       "       [1.81308  ],\n",
       "       [1.8165486],\n",
       "       [1.8172972],\n",
       "       [1.8181989],\n",
       "       [1.8206128],\n",
       "       [1.8251305],\n",
       "       [1.8321173],\n",
       "       [1.8403687],\n",
       "       [1.8499305],\n",
       "       [1.8616592],\n",
       "       [1.8730881],\n",
       "       [1.8832594],\n",
       "       [1.8923484],\n",
       "       [1.9019029],\n",
       "       [1.8982882],\n",
       "       [1.8777653],\n",
       "       [1.8446925],\n",
       "       [1.8098056],\n",
       "       [1.7810094],\n",
       "       [1.7601361],\n",
       "       [1.7464688],\n",
       "       [1.7385061],\n",
       "       [1.7352481],\n",
       "       [1.731544 ],\n",
       "       [1.7245076],\n",
       "       [1.7201575],\n",
       "       [1.7228277],\n",
       "       [1.7303015],\n",
       "       [1.7367481],\n",
       "       [1.7408744],\n",
       "       [1.7428069],\n",
       "       [1.7417748],\n",
       "       [1.7373931],\n",
       "       [1.730773 ],\n",
       "       [1.7212187],\n",
       "       [1.7100759],\n",
       "       [1.6973631],\n",
       "       [1.6761576],\n",
       "       [1.649393 ],\n",
       "       [1.6205235],\n",
       "       [1.5939867],\n",
       "       [1.5756247],\n",
       "       [1.5691254],\n",
       "       [1.5735774],\n",
       "       [1.5853546],\n",
       "       [1.6016688],\n",
       "       [1.6187475],\n",
       "       [1.6345154],\n",
       "       [1.6487362],\n",
       "       [1.6605402],\n",
       "       [1.6703373],\n",
       "       [1.6792656],\n",
       "       [1.6864073],\n",
       "       [1.6874487],\n",
       "       [1.6810992],\n",
       "       [1.668696 ],\n",
       "       [1.6538508],\n",
       "       [1.6418222],\n",
       "       [1.6365851],\n",
       "       [1.639704 ],\n",
       "       [1.6506561],\n",
       "       [1.6644444],\n",
       "       [1.6781883],\n",
       "       [1.6917204],\n",
       "       [1.7045939],\n",
       "       [1.7158957],\n",
       "       [1.7254021],\n",
       "       [1.7330842],\n",
       "       [1.7377946],\n",
       "       [1.7393615],\n",
       "       [1.7362785],\n",
       "       [1.7303269],\n",
       "       [1.7244366],\n",
       "       [1.7191508],\n",
       "       [1.7141448],\n",
       "       [1.7245135],\n",
       "       [1.7505676],\n",
       "       [1.7839895],\n",
       "       [1.8151362],\n",
       "       [1.8371565],\n",
       "       [1.84624  ],\n",
       "       [1.8384279],\n",
       "       [1.8197742],\n",
       "       [1.7974579],\n",
       "       [1.7808204],\n",
       "       [1.7710567],\n",
       "       [1.7657053]], dtype=float32)"
      ]
     },
     "execution_count": 16,
     "metadata": {},
     "output_type": "execute_result"
    }
   ],
   "source": [
    "y_pred = model.predict(X_test)\n",
    "y_pred"
   ]
  },
  {
   "cell_type": "code",
   "execution_count": 17,
   "id": "f11217b7",
   "metadata": {},
   "outputs": [],
   "source": [
    "predicted_price = sc.inverse_transform(y_pred)"
   ]
  },
  {
   "cell_type": "code",
   "execution_count": 18,
   "id": "a23ec078",
   "metadata": {},
   "outputs": [
    {
     "data": {
      "image/png": "[encoded data removed]",
      "text/plain": [
       "<Figure size 432x288 with 1 Axes>"
      ]
     },
     "metadata": {
      "needs_background": "light"
     },
     "output_type": "display_data"
    }
   ],
   "source": [
    "plt.plot(y_test, color = 'red', label = 'Actual Stock Price')\n",
    "plt.plot(predicted_price, color = 'green', label = 'Predicted Stock Price')\n",
    "plt.title('Google stock price prediction')\n",
    "plt.xlabel('Time')\n",
    "plt.ylabel('Stock Price')\n",
    "plt.legend()\n",
    "plt.show()"
   ]
  },
  {
   "cell_type": "code",
   "execution_count": null,
   "id": "3645c139",
   "metadata": {},
   "outputs": [],
   "source": []
  },
  {
   "cell_type": "code",
   "execution_count": null,
   "id": "de6d1523",
   "metadata": {},
   "outputs": [],
   "source": []
  }
 ],
 "metadata": {
  "kernelspec": {
   "display_name": "Python 3 (ipykernel)",
   "language": "python",
   "name": "python3"
  },
  "language_info": {
   "codemirror_mode": {
    "name": "ipython",
    "version": 3
   },
   "file_extension": ".py",
   "mimetype": "text/x-python",
   "name": "python",
   "nbconvert_exporter": "python",
   "pygments_lexer": "ipython3",
   "version": "3.10.11"
  }
 },
 "nbformat": 4,
 "nbformat_minor": 5
}
